{
 "cells": [
  {
   "attachments": {},
   "cell_type": "markdown",
   "metadata": {},
   "source": [
    "Example Notebook for running GeoSeg on correcting 2D-based method cell segmentation error"
   ]
  },
  {
   "cell_type": "code",
   "execution_count": null,
   "metadata": {},
   "outputs": [],
   "source": [
    "import sys\n",
    "!{sys.executable} -m pip install scikit-image\n",
    "!{sys.executable} -m pip install numpy\n",
    "!{sys.executable} -m pip install matplotlib\n",
    "!{sys.executable} -m pip install scipy"
   ]
  },
  {
   "cell_type": "code",
   "execution_count": 3,
   "metadata": {},
   "outputs": [],
   "source": [
    "import CandidateSearching as CS\n",
    "import interpolate as IP\n",
    "\n",
    "import os\n",
    "import re\n",
    "import h5py\n",
    "import numpy as np\n",
    "from scipy import ndimage\n",
    "import matplotlib.colors as mcolors\n",
    "from matplotlib import pyplot as plt\n",
    "from cellstitch import evaluation as eval"
   ]
  },
  {
   "attachments": {},
   "cell_type": "markdown",
   "metadata": {},
   "source": [
    "Please entry your directory name and file name \n",
    "\n",
    "If you are using the plant dataset, each image stack is indexed from 0 to 99\n",
    "\n",
    "For example, Anther_00.npy, ..., Anther_99.npy"
   ]
  },
  {
   "cell_type": "code",
   "execution_count": 7,
   "metadata": {},
   "outputs": [],
   "source": [
    "directory_name = r'.\\Leaf' # Example of directory for the dataset\n",
    "image_stack = \"Leaf_{:02d}.npy\" # Example of file name for each image stack in the dataset"
   ]
  },
  {
   "cell_type": "code",
   "execution_count": null,
   "metadata": {},
   "outputs": [],
   "source": [
    "# Image stack index\n",
    "problem_masks = []\n",
    "\n",
    "# Number of image stacks\n",
    "num_dataset = 20\n",
    "\n",
    "for iter in range(num_dataset):\n",
    "    print(iter)\n",
    "    file_name = image_stack.format(iter)\n",
    "    file_path = os.path.join(directory_name, file_name)\n",
    "    result = CS.main(file_path)\n",
    "    for j in result:\n",
    "        problem_masks.append((iter,j[0],j[1],j[2]))\n",
    "        \n",
    "print(\"********************************************************\")\n",
    "print(\"List of problematic mask in this dataset:\")\n",
    "for iter, cell_A, cell_B, missing_mask in problem_masks:\n",
    "    print(f\"Image Stack {iter}, Cell_A id: {cell_A}, Cell_B id: {cell_B}, Missing mask layer starts at: {missing_mask}\")"
   ]
  },
  {
   "attachments": {},
   "cell_type": "markdown",
   "metadata": {},
   "source": [
    "From the previous step, we get a set of suspected cases where our algorithm detected that there's a 2D-segmentation error.\n",
    "\n",
    "The following step will correct the 2D-segmentation error by doing the cross layer interpolation:"
   ]
  },
  {
   "cell_type": "code",
   "execution_count": 10,
   "metadata": {},
   "outputs": [],
   "source": [
    "# WrongedMask[0] represents the id of the image stack from the dataset\n",
    "# WrongedMask[1] represents the index of the upper cell\n",
    "# WrongedMask[2] represents the index of the lower cell\n",
    "wrongedMask = problem_masks\n",
    "\n",
    "for info in wrongedMask:\n",
    "    dir_name = directory_name + \"_augmented\"\n",
    "    file_name = \"augmented_{:02d}_masks.npy\".format(info[0])\n",
    "    file_path = os.path.join(dir_name, file_name)\n",
    "\n",
    "    # We accumulatively correct the segmentation error on a image stack\n",
    "    try:\n",
    "        if not os.path.exists(file_path):\n",
    "            raise FileNotFoundError\n",
    "    except FileNotFoundError:\n",
    "        dir_name = directory_name\n",
    "        file_name = image_stack.format(info[0])\n",
    "        file_path = os.path.join(dir_name, file_name)\n",
    "        os.makedirs(directory_name + \"_augmented\", exist_ok=True)\n",
    "\n",
    "    array = CS.load_array(os.path.join(file_path))\n",
    "    cell_dict = CS.extract_cells_info(array)\n",
    "    try:\n",
    "        mask_A = array[cell_dict[info[1]].lowest_layer]\n",
    "        mask_B = array[cell_dict[info[2]].highest_layer]\n",
    "    except:\n",
    "        continue\n",
    "\n",
    "    # Load the cell dir and each cell's info\n",
    "    lbl_A = info[1]\n",
    "    lbl_B = info[2]\n",
    "    adapted_mask_A = np.copy(mask_A)\n",
    "    adapted_mask_B = np.copy(mask_B)\n",
    "    adapted_mask_A[adapted_mask_A != lbl_A] = 0\n",
    "    adapted_mask_B[adapted_mask_B != lbl_B] = 0\n",
    "    contour_A = IP.get_contours(adapted_mask_A)\n",
    "    contour_B = IP.get_contours(adapted_mask_B)\n",
    "    recovered = IP.interpolate(IP.mask_to_coord(contour_A),IP.mask_to_coord(contour_B))\n",
    "    recovered_array = np.array(recovered)\n",
    "    recovered_array_2d = np.reshape(recovered_array, (-1, 2))\n",
    "    resu = IP.connect_boundary(recovered_array_2d, (np.shape(mask_A)[0], np.shape(mask_A)[1]) , lbl_A)\n",
    "    filled_mask = ndimage.binary_fill_holes(resu)\n",
    "    mask_C = array[cell_dict[info[1]].lowest_layer + 1]\n",
    "    \n",
    "    # Correct the 2D segmentation by adding the interpolation mask to the original 2D segmentation error layer\n",
    "    filled_indices = np.argwhere(filled_mask != 0)\n",
    "    index_tuple = tuple(zip(*filled_indices))\n",
    "    mask_C[index_tuple] = lbl_B\n",
    "    array_new = np.copy(array)\n",
    "    array_new[cell_dict[info[1]].lowest_layer + 1] = mask_C\n",
    "    array_new[array_new == lbl_A] = lbl_B\n",
    "\n",
    "    index = info[0]\n",
    "    save_directory = directory_name + \"_augmented\"\n",
    "    save_name = \"augmented_{:02d}_masks.npy\".format(index)\n",
    "    save_path = os.path.join(save_directory,save_name)\n",
    "    np.save(save_path, array_new)\n",
    "    "
   ]
  }
 ],
 "metadata": {
  "kernelspec": {
   "display_name": "Python 3",
   "language": "python",
   "name": "python3"
  },
  "language_info": {
   "codemirror_mode": {
    "name": "ipython",
    "version": 3
   },
   "file_extension": ".py",
   "mimetype": "text/x-python",
   "name": "python",
   "nbconvert_exporter": "python",
   "pygments_lexer": "ipython3",
   "version": "3.12.3"
  },
  "orig_nbformat": 4,
  "vscode": {
   "interpreter": {
    "hash": "aee8b7b246df8f9039afb4144a1f6fd8d2ca17a180786b69acc140d282b71a49"
   }
  }
 },
 "nbformat": 4,
 "nbformat_minor": 2
}
